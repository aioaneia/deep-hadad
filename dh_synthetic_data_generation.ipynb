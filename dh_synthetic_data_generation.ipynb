{
 "cells": [
  {
   "cell_type": "markdown",
   "metadata": {
    "id": "_1KRPvLret1R"
   },
   "source": [
    "### Install Numpy 1.23"
   ]
  },
  {
   "cell_type": "code",
   "execution_count": null,
   "metadata": {},
   "source": [
    "!pip install --upgrade scipy\n",
    "!pip install --upgrade scikit-image\n",
    "!pip install numpy==1.23"
   ],
   "outputs": []
  },
  {
   "cell_type": "markdown",
   "metadata": {},
   "source": [
    "### Synthetic Data Generation"
   ]
  },
  {
   "cell_type": "code",
   "execution_count": 1,
   "metadata": {
    "colab": {
     "base_uri": "https://localhost:8080/"
    },
    "executionInfo": {
     "elapsed": 4736,
     "status": "ok",
     "timestamp": 1698272144202,
     "user": {
      "displayName": "Andrei Aioanei",
      "userId": "01501721901742656014"
     },
     "user_tz": -120
    },
    "id": "YXYboJWNduhv",
    "outputId": "063671ee-e917-4257-db8f-f283c82cd6a5"
   },
   "source": [
    "import os\n",
    "import cv2\n",
    "import glob\n",
    "import numpy as np\n",
    "import logging\n",
    "import configparser\n",
    "import sys\n",
    "\n",
    "from skimage.morphology import disk\n",
    "from matplotlib import pyplot as plt"
   ],
   "outputs": []
  },
  {
   "cell_type": "markdown",
   "metadata": {},
   "source": [
    "## Google Colab"
   ]
  },
  {
   "cell_type": "code",
   "execution_count": null,
   "metadata": {},
   "source": [
    "from google.colab import drive\n",
    "\n",
    "# Mount Google Drive\n",
    "drive.mount(\"/content/drive\", force_remount=True)\n",
    "\n",
    "# Set Project Path\n",
    "project_path = '/content/drive/My Drive/Research Hub/Projects/Present Projects/{Deep Hadad}/Implementation/DeepHadadProject/'"
   ],
   "outputs": []
  },
  {
   "cell_type": "code",
   "execution_count": null,
   "metadata": {},
   "source": [
    "project_path = './'"
   ],
   "outputs": []
  },
  {
   "cell_type": "markdown",
   "metadata": {},
   "source": [
    "## Import Synthetic Data Library"
   ]
  },
  {
   "cell_type": "code",
   "execution_count": 2,
   "metadata": {},
   "source": [
    "sys.path.append(project_path)\n",
    "\n",
    "from utils import image_processing as ip \n",
    "from utils import synthetic_data_generation as syn_gen"
   ],
   "outputs": []
  },
  {
   "cell_type": "markdown",
   "metadata": {
    "id": "KjFrWinxKR8g"
   },
   "source": [
    "Load the displacement maps"
   ]
  },
  {
   "cell_type": "markdown",
   "metadata": {},
   "source": [
    "## Init the paths"
   ]
  },
  {
   "cell_type": "code",
   "execution_count": null,
   "metadata": {},
   "source": [
    "syn_gen.init_default_paths(project_dir=project_path, dataset_size=\"small\")\n",
    "\n",
    "print(f\"Project Path:            {syn_gen.project_path}\")\n",
    "print(f\"Displacement Maps Path:  {syn_gen.displacement_maps_path}\")\n",
    "print(f\"X Training Dataset Path: {syn_gen.x_training_dataset_path}\")\n",
    "print(f\"Y Training Dataset Path: {syn_gen.y_training_dataset_path}\")"
   ],
   "outputs": []
  },
  {
   "cell_type": "markdown",
   "metadata": {},
   "source": [
    "## Load displacement maps"
   ]
  },
  {
   "cell_type": "code",
   "execution_count": null,
   "metadata": {
    "id": "fxNkEEfIJLUg"
   },
   "source": [
    "displacement_maps = syn_gen.load_displacement_maps_from_directory(syn_gen.displacement_maps_path)\n",
    "num_images        = len(displacement_maps)\n",
    "\n",
    "print(f'Number of images: {num_images}')"
   ],
   "outputs": []
  },
  {
   "cell_type": "markdown",
   "metadata": {
    "id": "O95WVyJxY3fy"
   },
   "source": [
    "## Display some icons with the displacement maps"
   ]
  },
  {
   "cell_type": "code",
   "execution_count": null,
   "metadata": {
    "id": "BBrKjLucY8gx"
   },
   "source": [
    "ip.display_images(displacement_maps)"
   ],
   "outputs": []
  },
  {
   "cell_type": "markdown",
   "metadata": {
    "id": "WE5LVpQGQMfM"
   },
   "source": [
    "## Set custom variables"
   ]
  },
  {
   "cell_type": "code",
   "execution_count": 8,
   "metadata": {},
   "source": [
    "syn_gen.num_pairs = 150\n",
    "syn_gen.batch_size = 10"
   ],
   "outputs": []
  },
  {
   "cell_type": "markdown",
   "metadata": {},
   "source": [
    "## Generate synthetic displacement maps"
   ]
  },
  {
   "cell_type": "code",
   "execution_count": null,
   "metadata": {
    "id": "zqI3J3qKehE4"
   },
   "source": [
    "\n",
    "# Validate and create directories\n",
    "syn_gen.validate_directories(syn_gen.paths)\n",
    "\n",
    "# Generate synthetic images\n",
    "syn_gen.generate_data_in_parallel(displacement_maps, syn_gen.num_pairs, syn_gen.batch_size, syn_gen.x_training_dataset_path, syn_gen.y_training_dataset_path)"
   ],
   "outputs": []
  },
  {
   "cell_type": "markdown",
   "metadata": {},
   "source": [
    "# Display the generated images as pairs"
   ]
  },
  {
   "cell_type": "code",
   "execution_count": null,
   "metadata": {},
   "source": [
    "# Display the generated images as pairs\n",
    "syn_gen.display_sample_pairs()"
   ],
   "outputs": []
  }
 ],
 "metadata": {
  "colab": {
   "authorship_tag": "ABX9TyPRLLA+jm2ZjS5dmJ8eOj9u",
   "provenance": []
  },
  "kernelspec": {
   "display_name": "Python 3",
   "name": "python3"
  },
  "language_info": {
   "codemirror_mode": {
    "name": "ipython",
    "version": 3
   },
   "file_extension": ".py",
   "mimetype": "text/x-python",
   "name": "python",
   "nbconvert_exporter": "python",
   "pygments_lexer": "ipython3",
   "version": "3.10.6"
  }
 },
 "nbformat": 4,
 "nbformat_minor": 0
}
