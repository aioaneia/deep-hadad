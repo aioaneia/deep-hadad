{
 "cells": [
  {
   "cell_type": "markdown",
   "metadata": {
    "id": "rUiPvRyhgbXt"
   },
   "source": [
    "### Image To Image Translation Model"
   ]
  },
  {
   "cell_type": "code",
   "source": [
    "!pip install noise"
   ],
   "metadata": {
    "id": "N-Rfb0iy1wty",
    "colab": {
     "base_uri": "https://localhost:8080/"
    },
    "executionInfo": {
     "status": "ok",
     "timestamp": 1714483964244,
     "user_tz": -120,
     "elapsed": 8654,
     "user": {
      "displayName": "Andrei Aioanei",
      "userId": "01501721901742656014"
     }
    },
    "outputId": "dfa5f85c-b805-4216-c898-61edaf3438af",
    "jupyter": {
     "is_executing": true
    }
   },
   "execution_count": null,
   "outputs": []
  },
  {
   "cell_type": "code",
   "metadata": {
    "id": "GHpkMFd1uGFf",
    "colab": {
     "base_uri": "https://localhost:8080/"
    },
    "executionInfo": {
     "status": "ok",
     "timestamp": 1714484025258,
     "user_tz": -120,
     "elapsed": 61016,
     "user": {
      "displayName": "Andrei Aioanei",
      "userId": "01501721901742656014"
     }
    },
    "outputId": "adaa5f13-83d3-4f0d-bbed-70fb19f4b909"
   },
   "source": [
    "#!pip install lpips\n",
    "!pip install pytorch_msssim"
   ],
   "execution_count": null,
   "outputs": []
  },
  {
   "cell_type": "markdown",
   "metadata": {
    "id": "7jlwr5DkWWdc"
   },
   "source": [
    "Project path in Google Colab"
   ]
  },
  {
   "cell_type": "code",
   "metadata": {
    "colab": {
     "base_uri": "https://localhost:8080/"
    },
    "executionInfo": {
     "elapsed": 5799,
     "status": "ok",
     "timestamp": 1714479359575,
     "user": {
      "displayName": "Andrei Aioanei",
      "userId": "01501721901742656014"
     },
     "user_tz": -120
    },
    "id": "XLftWlQ5WWdh",
    "outputId": "b1bb2889-69e2-4220-ed5a-426a80f21d7f"
   },
   "source": [
    "from google.colab import drive\n",
    "\n",
    "# Mount Google Drive\n",
    "drive.mount(\"/content/drive\", force_remount=True)\n",
    "\n",
    "project_path = '/content/drive/My Drive/Research Hub/Projects/Present Projects/{Deep Hadad}/Implementation/DeepHadadProject/'"
   ],
   "execution_count": null,
   "outputs": []
  },
  {
   "cell_type": "markdown",
   "metadata": {
    "id": "_GhGemFFWWdh"
   },
   "source": [
    "Local Project path"
   ]
  },
  {
   "cell_type": "code",
   "metadata": {
    "id": "Mh4hnQo1WWdh",
    "executionInfo": {
     "status": "ok",
     "timestamp": 1714479369775,
     "user_tz": -120,
     "elapsed": 624,
     "user": {
      "displayName": "Andrei Aioanei",
      "userId": "01501721901742656014"
     }
    }
   },
   "source": [
    "project_path = './'"
   ],
   "execution_count": null,
   "outputs": []
  },
  {
   "cell_type": "markdown",
   "metadata": {
    "id": "qSywFKyJBeZ2"
   },
   "source": [
    "Import DH network"
   ]
  },
  {
   "cell_type": "code",
   "metadata": {
    "executionInfo": {
     "elapsed": 603,
     "status": "ok",
     "timestamp": 1714479377388,
     "user": {
      "displayName": "Andrei Aioanei",
      "userId": "01501721901742656014"
     },
     "user_tz": -120
    },
    "id": "BTW6k6XPuvRC"
   },
   "source": [
    "import sys\n",
    "sys.path.append(project_path)\n",
    "\n",
    "import ai_spot_model_training as ai_train"
   ],
   "execution_count": null,
   "outputs": []
  },
  {
   "cell_type": "markdown",
   "metadata": {
    "id": "uzYgg8BBWWdh"
   },
   "source": [
    "### Constants"
   ]
  },
  {
   "cell_type": "code",
   "metadata": {
    "id": "mxtAsVhGWWdi",
    "executionInfo": {
     "status": "ok",
     "timestamp": 1714479380955,
     "user_tz": -120,
     "elapsed": 586,
     "user": {
      "displayName": "Andrei Aioanei",
      "userId": "01501721901742656014"
     }
    }
   },
   "source": [
    "# Set paths\n",
    "ai_train.PROJECT_PATH            = project_path\n",
    "ai_train.TRAINING_DATASET_PATH   = project_path + 'data/training_dataset'\n",
    "ai_train.X_TRAINING_DATASET_PATH = ai_train.TRAINING_DATASET_PATH + '/X'\n",
    "ai_train.Y_TRAINING_DATASET_PATH = ai_train.TRAINING_DATASET_PATH + '/Y'\n",
    "ai_train.MODEL_PATH              = project_path + 'trained_models/'"
   ],
   "execution_count": null,
   "outputs": []
  },
  {
   "cell_type": "markdown",
   "metadata": {
    "id": "Bm-LULpeJOEG"
   },
   "source": [
    "### Hyperparameters overwrite"
   ]
  },
  {
   "cell_type": "code",
   "metadata": {
    "colab": {
     "base_uri": "https://localhost:8080/"
    },
    "executionInfo": {
     "elapsed": 591,
     "status": "ok",
     "timestamp": 1714479384523,
     "user": {
      "displayName": "Andrei Aioanei",
      "userId": "01501721901742656014"
     },
     "user_tz": -120
    },
    "id": "tyGCgjU8JO1L",
    "outputId": "7b01c461-b9ef-4d96-e103-84e3f5ecffad"
   },
   "source": [
    "ai_train.batch_size = 8\n",
    "ai_train.num_epochs = 120\n",
    "ai_train.patience   = 120\n",
    "\n",
    "print(f\"Batch_size: {ai_train.batch_size}\")\n",
    "print(f\"Batch_size: {ai_train.loss_weights.weights}\")"
   ],
   "execution_count": null,
   "outputs": []
  },
  {
   "cell_type": "markdown",
   "metadata": {
    "id": "37q6KY6IV88y"
   },
   "source": [
    "### Dataset Loading"
   ]
  },
  {
   "cell_type": "code",
   "metadata": {
    "colab": {
     "base_uri": "https://localhost:8080/",
     "height": 365
    },
    "id": "CrlOJ6v8V7fV",
    "outputId": "3b623a5b-b742-44b5-a4ec-1f0ea8427b18",
    "executionInfo": {
     "status": "error",
     "timestamp": 1714479389828,
     "user_tz": -120,
     "elapsed": 605,
     "user": {
      "displayName": "Andrei Aioanei",
      "userId": "01501721901742656014"
     }
    }
   },
   "source": [
    "# Print ad the dataset\n",
    "print(f\"Path to Intact Images:  {ai_train.X_TRAINING_DATASET_PATH}\")\n",
    "print(f\"Path to Damaged Images: {ai_train.Y_TRAINING_DATASET_PATH}\")\n",
    "\n",
    "train_dataloader, val_dataloader = ai_train.load_dataset(save_images=False)"
   ],
   "execution_count": null,
   "outputs": []
  },
  {
   "cell_type": "markdown",
   "metadata": {
    "id": "6gVYSuc_C43V"
   },
   "source": [
    "### Network initialisation"
   ]
  },
  {
   "cell_type": "code",
   "metadata": {
    "id": "80xJHGQoC3Ds",
    "colab": {
     "base_uri": "https://localhost:8080/"
    },
    "executionInfo": {
     "status": "ok",
     "timestamp": 1707356640189,
     "user_tz": -60,
     "elapsed": 6865,
     "user": {
      "displayName": "Andrei Aioanei",
      "userId": "01501721901742656014"
     }
    },
    "outputId": "ff62a931-cd9e-47af-951a-793f442057e4"
   },
   "source": [
    "# Instantiate the generator and discriminator\n",
    "generator, discriminator = dh_train.instantiate_networks(\n",
    "  type       = 'unet_512',\n",
    "  num_downs = 7,\n",
    "  ngf        = 192,\n",
    "  norm_type  = 'instance',\n",
    "  use_dropout = False\n",
    ")"
   ],
   "execution_count": null,
   "outputs": []
  },
  {
   "cell_type": "markdown",
   "metadata": {
    "id": "PAp0jCJVnQye"
   },
   "source": [
    "### Initialize optimizers"
   ]
  },
  {
   "cell_type": "code",
   "metadata": {
    "id": "yJyTNQoxna3W"
   },
   "source": [
    "# Initialize optimizers\n",
    "gen_optim, dis_optim = dh_train.init_optimizer(generator, discriminator)"
   ],
   "execution_count": null,
   "outputs": []
  },
  {
   "cell_type": "markdown",
   "metadata": {
    "id": "c0498ro7es0F"
   },
   "source": [
    "### Model Training"
   ]
  },
  {
   "cell_type": "code",
   "metadata": {
    "colab": {
     "base_uri": "https://localhost:8080/",
     "height": 1000
    },
    "id": "NiFoN2HbeqS0",
    "executionInfo": {
     "status": "error",
     "timestamp": 1707397837458,
     "user_tz": -60,
     "elapsed": 41197271,
     "user": {
      "displayName": "Andrei Aioanei",
      "userId": "01501721901742656014"
     }
    },
    "outputId": "0be5b24f-9682-48e6-f1ab-201c3be2a611"
   },
   "source": [
    "dh_train.network_training(train_dataloader, val_dataloader, generator, discriminator, gen_optim, dis_optim)"
   ],
   "execution_count": null,
   "outputs": []
  }
 ],
 "metadata": {
  "accelerator": "GPU",
  "colab": {
   "provenance": [],
   "gpuType": "L4"
  },
  "kernelspec": {
   "display_name": "Python 3",
   "name": "python3"
  },
  "language_info": {
   "codemirror_mode": {
    "name": "ipython",
    "version": 3
   },
   "file_extension": ".py",
   "mimetype": "text/x-python",
   "name": "python",
   "nbconvert_exporter": "python",
   "pygments_lexer": "ipython3",
   "version": "3.10.6"
  }
 },
 "nbformat": 4,
 "nbformat_minor": 0
}
